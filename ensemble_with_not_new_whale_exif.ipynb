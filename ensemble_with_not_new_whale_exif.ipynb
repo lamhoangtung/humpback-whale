{
 "cells": [
  {
   "cell_type": "code",
   "execution_count": 1,
   "metadata": {
    "ExecuteTime": {
     "end_time": "2019-02-26T01:59:30.126534Z",
     "start_time": "2019-02-26T01:59:29.876377Z"
    },
    "_cell_guid": "b1076dfc-b9ad-4769-8c92-a6c4dae69d19",
    "_uuid": "8f2839f25d086af736a60e9eeb907d3b93b6e0e5"
   },
   "outputs": [],
   "source": [
    "import csv\n",
    "import pandas as pd # not key to functionality of kernel"
   ]
  },
  {
   "cell_type": "code",
   "execution_count": 2,
   "metadata": {
    "ExecuteTime": {
     "end_time": "2019-02-26T01:59:30.658855Z",
     "start_time": "2019-02-26T01:59:30.655318Z"
    }
   },
   "outputs": [],
   "source": [
    "\n",
    "sub_files = [\n",
    "                 './876.csv',\n",
    "                './880.csv'\n",
    "]\n",
    "\n",
    "# Weights of the individual subs\n",
    "sub_weight = [\n",
    "                0.876**2,\n",
    "                0.880**2,\n",
    "            ]\n",
    "# 15"
   ]
  },
  {
   "cell_type": "code",
   "execution_count": 11,
   "metadata": {
    "ExecuteTime": {
     "end_time": "2019-02-26T02:03:12.909800Z",
     "start_time": "2019-02-26T02:03:12.902304Z"
    }
   },
   "outputs": [],
   "source": [
    "not_new_whale = ['001a4d292.jpg', '004fa8ff7.jpg', '034b5f550.jpg', '04ea55d4d.jpg', '07053c913.jpg', '08306ba62.jpg', '09ce1acbc.jpg', '0a5be3b4c.jpg', '0a8e58929.jpg', '0ddf541fd.jpg', '0f6bbccea.jpg', '105be55c9.jpg', '108c35cd5.jpg', '11ed73eb4.jpg', '11f33db3a.jpg', '1201e4a8a.jpg', '13f36f3d6.jpg', '15092bf57.jpg', '19b916371.jpg', '19b9e8a7c.jpg', '1d908df2f.jpg', '211d8987b.jpg', '253a15fb8.jpg', '28094414e.jpg', '2870648d0.jpg', '2b1921219.jpg', '31c2b27d0.jpg', '31d6d48e1.jpg', '347532749.jpg', '35f47ccf7.jpg', '3713dc323.jpg', '37449bb57.jpg', '39d0f6160.jpg', '3fd6a444b.jpg', '4a8ab5bb3.jpg', '4af00599f.jpg', '4cd6b39ec.jpg', '4ec39ab25.jpg', '55513c1cb.jpg', '55d628e47.jpg', '5628e59a9.jpg', '601b0ec0e.jpg', '615ea4bf6.jpg', '617b3ea7c.jpg', '632732cf7.jpg', '635be3e6f.jpg', '641420049.jpg', '68e34d8e3.jpg', '6969afe68.jpg', '6c92b6e0e.jpg', '6db72af84.jpg', '6e701fb83.jpg', '70fdc500a.jpg', '72f7229ae.jpg', '7333031c0.jpg', '737c68b02.jpg', '77df417d8.jpg', '78957f13c.jpg', '7b2ebae5b.jpg', '7ea0f45a8.jpg', '80693fcc2.jpg', '810aaa184.jpg', '83dcc971e.jpg', '847fda2fa.jpg', '855ddc515.jpg', '85e4d3922.jpg', '8749f0fef.jpg', '87f47de5f.jpg', '8a9a77d95.jpg', '8e0a9e74b.jpg', '90d3d881a.jpg', '91a2055e1.jpg', '92aaf3a25.jpg', '95a197632.jpg', '96aa64d28.jpg', '9924ee6b2.jpg', '9d35481d6.jpg', 'a22c230f6.jpg', 'a35964195.jpg', 'a727bb809.jpg', 'a72d5201b.jpg', 'a78e9ef74.jpg', 'a7e3c7baa.jpg', 'aa063c901.jpg', 'aa5e9313a.jpg', 'aaae19536.jpg', 'adc08bb01.jpg', 'b0148424e.jpg', 'b0c1fcc72.jpg', 'b3604091e.jpg', 'b41a22233.jpg', 'bb5147830.jpg', 'be6859b88.jpg', 'c0a58041e.jpg', 'c104744b9.jpg', 'c1754620d.jpg', 'c4329155b.jpg', 'c435dabd3.jpg', 'c455ed9a2.jpg', 'c46400bd3.jpg', 'd90bc576e.jpg', 'db4bd6af8.jpg', 'ddfd20a15.jpg', 'dee7fd598.jpg', 'e1060f178.jpg', 'e409024aa.jpg', 'e52e6188c.jpg', 'e6071c71f.jpg', 'e62d06507.jpg', 'ea911c090.jpg', 'ecfaca9c3.jpg', 'ee154380e.jpg', 'ef3e8c15a.jpg', 'f40faf19f.jpg', 'f54366fc8.jpg', 'fb7d2f5e5.jpg', 'fbfa6334e.jpg', 'fdbf59d11.jpg']"
   ]
  },
  {
   "cell_type": "code",
   "execution_count": 12,
   "metadata": {
    "ExecuteTime": {
     "end_time": "2019-02-26T02:03:16.180804Z",
     "start_time": "2019-02-26T02:03:15.964498Z"
    },
    "_cell_guid": "79c7e3d0-c299-4dcb-8224-4455121ee9b0",
    "_uuid": "d629ff2d2480ee46fbb7e2d37f6b5fab8052498a"
   },
   "outputs": [
    {
     "name": "stdout",
     "output_type": "stream",
     "text": [
      "{0: 1.0, 1: 0.5, 2: 0.3333333333333333, 3: 0.25, 4: 0.2, 5: 0.16666666666666666}\n",
      "Reading 0: w=0.767376 - ./876.csv\n",
      "Reading 1: w=0.7744 - ./880.csv\n"
     ]
    }
   ],
   "source": [
    "Hlabel = 'Image' \n",
    "Htarget = 'Id'\n",
    "npt = 6 # number of places in target\n",
    "\n",
    "place_weights = {}\n",
    "for i in range(npt):\n",
    "    place_weights[i] = ( 1 / (i + 1) )\n",
    "    \n",
    "print(place_weights)\n",
    "\n",
    "lg = len(sub_files)\n",
    "sub = [None]*lg\n",
    "for i, file in enumerate( sub_files ):\n",
    "    ## input files ##\n",
    "    print(\"Reading {}: w={} - {}\". format(i, sub_weight[i], file))\n",
    "    reader = csv.DictReader(open(file,\"r\"))\n",
    "    sub[i] = sorted(reader, key=lambda d: str(d[Hlabel]))\n",
    "\n",
    "## output file ##\n",
    "out = open(\"ensembled_sub.csv\", \"w\", newline='')\n",
    "writer = csv.writer(out)\n",
    "writer.writerow([Hlabel,Htarget])\n",
    "\n",
    "for p, row in enumerate(sub[0]):\n",
    "    target_weight = {}\n",
    "    for s in range(lg):\n",
    "        row1 = sub[s][p]\n",
    "        for ind, trgt in enumerate(row1[Htarget].split(' ')):\n",
    "            target_weight[trgt] = target_weight.get(trgt,0) + (place_weights[ind]*sub_weight[s])\n",
    "    if row['Image'] in not_new_whale and 'new_whale' in target_weight.keys():\n",
    "        target_weight['new_whale'] = 0\n",
    "    tops_trgt = sorted(target_weight, key=target_weight.get, reverse=True)[:npt]\n",
    "        \n",
    "    writer.writerow([row1[Hlabel], \" \".join(tops_trgt)])\n",
    "out.close()"
   ]
  },
  {
   "cell_type": "code",
   "execution_count": null,
   "metadata": {
    "_uuid": "566da08dd3e3d6f866e6d5135a013949bd99a4d5"
   },
   "outputs": [],
   "source": []
  }
 ],
 "metadata": {
  "kernelspec": {
   "display_name": "Python 3",
   "language": "python",
   "name": "python3"
  },
  "language_info": {
   "codemirror_mode": {
    "name": "ipython",
    "version": 3
   },
   "file_extension": ".py",
   "mimetype": "text/x-python",
   "name": "python",
   "nbconvert_exporter": "python",
   "pygments_lexer": "ipython3",
   "version": "3.6.7"
  },
  "toc": {
   "base_numbering": 1,
   "nav_menu": {},
   "number_sections": true,
   "sideBar": true,
   "skip_h1_title": false,
   "title_cell": "Table of Contents",
   "title_sidebar": "Contents",
   "toc_cell": false,
   "toc_position": {},
   "toc_section_display": true,
   "toc_window_display": false
  },
  "varInspector": {
   "cols": {
    "lenName": 16,
    "lenType": 16,
    "lenVar": 40
   },
   "kernels_config": {
    "python": {
     "delete_cmd_postfix": "",
     "delete_cmd_prefix": "del ",
     "library": "var_list.py",
     "varRefreshCmd": "print(var_dic_list())"
    },
    "r": {
     "delete_cmd_postfix": ") ",
     "delete_cmd_prefix": "rm(",
     "library": "var_list.r",
     "varRefreshCmd": "cat(var_dic_list()) "
    }
   },
   "types_to_exclude": [
    "module",
    "function",
    "builtin_function_or_method",
    "instance",
    "_Feature"
   ],
   "window_display": false
  }
 },
 "nbformat": 4,
 "nbformat_minor": 1
}
