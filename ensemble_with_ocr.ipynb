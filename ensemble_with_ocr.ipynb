{
 "cells": [
  {
   "cell_type": "code",
   "execution_count": 1,
   "metadata": {
    "ExecuteTime": {
     "end_time": "2019-02-26T02:23:43.506396Z",
     "start_time": "2019-02-26T02:23:43.220076Z"
    }
   },
   "outputs": [
    {
     "data": {
      "text/html": [
       "<div>\n",
       "<style scoped>\n",
       "    .dataframe tbody tr th:only-of-type {\n",
       "        vertical-align: middle;\n",
       "    }\n",
       "\n",
       "    .dataframe tbody tr th {\n",
       "        vertical-align: top;\n",
       "    }\n",
       "\n",
       "    .dataframe thead th {\n",
       "        text-align: right;\n",
       "    }\n",
       "</style>\n",
       "<table border=\"1\" class=\"dataframe\">\n",
       "  <thead>\n",
       "    <tr style=\"text-align: right;\">\n",
       "      <th></th>\n",
       "      <th>test_img</th>\n",
       "      <th>test_text</th>\n",
       "      <th>test_#</th>\n",
       "      <th>class</th>\n",
       "      <th>train_#</th>\n",
       "      <th>train_img</th>\n",
       "      <th>train_text</th>\n",
       "    </tr>\n",
       "  </thead>\n",
       "  <tbody>\n",
       "    <tr>\n",
       "      <th>0</th>\n",
       "      <td>866f92b2d.jpg</td>\n",
       "      <td>H‘WC#1257A</td>\n",
       "      <td>#1257</td>\n",
       "      <td>w_7dd1222</td>\n",
       "      <td>#1257</td>\n",
       "      <td>be009cdac.jpg</td>\n",
       "      <td>HWC #1257 YONAH #2623</td>\n",
       "    </tr>\n",
       "    <tr>\n",
       "      <th>1</th>\n",
       "      <td>5d7277fa1.jpg</td>\n",
       "      <td>HWC #7222 YoNAH #1458</td>\n",
       "      <td>#7222</td>\n",
       "      <td>w_f8b7f05</td>\n",
       "      <td>#7222</td>\n",
       "      <td>e88debd93.jpg</td>\n",
       "      <td>HWC#7222</td>\n",
       "    </tr>\n",
       "    <tr>\n",
       "      <th>2</th>\n",
       "      <td>d0827d811.jpg</td>\n",
       "      <td>#53555 O.|F.E.S</td>\n",
       "      <td>#5355</td>\n",
       "      <td>new_whale</td>\n",
       "      <td>#5355</td>\n",
       "      <td>9714deb5e.jpg</td>\n",
       "      <td>#53555 Ocean Rese arch EdL cation Society</td>\n",
       "    </tr>\n",
       "    <tr>\n",
       "      <th>3</th>\n",
       "      <td>d0827d811.jpg</td>\n",
       "      <td>#53555 O.|F.E.S</td>\n",
       "      <td>#5355</td>\n",
       "      <td>new_whale</td>\n",
       "      <td>#5355</td>\n",
       "      <td>f2b63f850.jpg</td>\n",
       "      <td>#53559 Ocean Rese arch EdL cation Society</td>\n",
       "    </tr>\n",
       "    <tr>\n",
       "      <th>4</th>\n",
       "      <td>d0827d811.jpg</td>\n",
       "      <td>#53555 O.|F.E.S</td>\n",
       "      <td>#5355</td>\n",
       "      <td>new_whale</td>\n",
       "      <td>#5355</td>\n",
       "      <td>de78690b1.jpg</td>\n",
       "      <td>#5355 Ocean Rese arch EdL cation Society</td>\n",
       "    </tr>\n",
       "  </tbody>\n",
       "</table>\n",
       "</div>"
      ],
      "text/plain": [
       "        test_img              test_text test_#      class train_#  \\\n",
       "0  866f92b2d.jpg             H‘WC#1257A  #1257  w_7dd1222   #1257   \n",
       "1  5d7277fa1.jpg  HWC #7222 YoNAH #1458  #7222  w_f8b7f05   #7222   \n",
       "2  d0827d811.jpg        #53555 O.|F.E.S  #5355  new_whale   #5355   \n",
       "3  d0827d811.jpg        #53555 O.|F.E.S  #5355  new_whale   #5355   \n",
       "4  d0827d811.jpg        #53555 O.|F.E.S  #5355  new_whale   #5355   \n",
       "\n",
       "       train_img                                 train_text  \n",
       "0  be009cdac.jpg                      HWC #1257 YONAH #2623  \n",
       "1  e88debd93.jpg                                   HWC#7222  \n",
       "2  9714deb5e.jpg  #53555 Ocean Rese arch EdL cation Society  \n",
       "3  f2b63f850.jpg  #53559 Ocean Rese arch EdL cation Society  \n",
       "4  de78690b1.jpg   #5355 Ocean Rese arch EdL cation Society  "
      ]
     },
     "execution_count": 1,
     "metadata": {},
     "output_type": "execute_result"
    }
   ],
   "source": [
    "import pandas as pd\n",
    "\n",
    "ocr = pd.read_csv('./ocrw_partial.csv')\n",
    "ocr.head()"
   ]
  },
  {
   "cell_type": "code",
   "execution_count": 2,
   "metadata": {
    "ExecuteTime": {
     "end_time": "2019-02-26T02:23:44.414248Z",
     "start_time": "2019-02-26T02:23:44.388685Z"
    }
   },
   "outputs": [
    {
     "data": {
      "text/html": [
       "<div>\n",
       "<style scoped>\n",
       "    .dataframe tbody tr th:only-of-type {\n",
       "        vertical-align: middle;\n",
       "    }\n",
       "\n",
       "    .dataframe tbody tr th {\n",
       "        vertical-align: top;\n",
       "    }\n",
       "\n",
       "    .dataframe thead th {\n",
       "        text-align: right;\n",
       "    }\n",
       "</style>\n",
       "<table border=\"1\" class=\"dataframe\">\n",
       "  <thead>\n",
       "    <tr style=\"text-align: right;\">\n",
       "      <th></th>\n",
       "      <th>Image</th>\n",
       "      <th>Id</th>\n",
       "    </tr>\n",
       "  </thead>\n",
       "  <tbody>\n",
       "    <tr>\n",
       "      <th>0</th>\n",
       "      <td>00028a005.jpg</td>\n",
       "      <td>w_dec7ffd new_whale w_bb2c919 w_2a0e817 w_f009...</td>\n",
       "    </tr>\n",
       "    <tr>\n",
       "      <th>1</th>\n",
       "      <td>000dcf7d8.jpg</td>\n",
       "      <td>w_4132bb8 new_whale w_e3956f5 w_d7aef56 w_11d8...</td>\n",
       "    </tr>\n",
       "    <tr>\n",
       "      <th>2</th>\n",
       "      <td>000e7c7df.jpg</td>\n",
       "      <td>w_94c3bf0 new_whale w_c7bd8e7 w_d7aef56 w_fc6d...</td>\n",
       "    </tr>\n",
       "    <tr>\n",
       "      <th>3</th>\n",
       "      <td>0019c34f4.jpg</td>\n",
       "      <td>w_a335fc2 w_c99807e new_whale w_8b86b95 w_5905...</td>\n",
       "    </tr>\n",
       "    <tr>\n",
       "      <th>4</th>\n",
       "      <td>001a4d292.jpg</td>\n",
       "      <td>w_bca4304 w_20eeb29 w_5b40032 w_82e7319 w_c20b...</td>\n",
       "    </tr>\n",
       "  </tbody>\n",
       "</table>\n",
       "</div>"
      ],
      "text/plain": [
       "           Image                                                 Id\n",
       "0  00028a005.jpg  w_dec7ffd new_whale w_bb2c919 w_2a0e817 w_f009...\n",
       "1  000dcf7d8.jpg  w_4132bb8 new_whale w_e3956f5 w_d7aef56 w_11d8...\n",
       "2  000e7c7df.jpg  w_94c3bf0 new_whale w_c7bd8e7 w_d7aef56 w_fc6d...\n",
       "3  0019c34f4.jpg  w_a335fc2 w_c99807e new_whale w_8b86b95 w_5905...\n",
       "4  001a4d292.jpg  w_bca4304 w_20eeb29 w_5b40032 w_82e7319 w_c20b..."
      ]
     },
     "execution_count": 2,
     "metadata": {},
     "output_type": "execute_result"
    }
   ],
   "source": [
    "curr_submission = pd.read_csv('/Users/lamhoangtung/Downloads/ensembled_sub_with_leak.csv')\n",
    "curr_submission.head()"
   ]
  },
  {
   "cell_type": "code",
   "execution_count": 3,
   "metadata": {
    "ExecuteTime": {
     "end_time": "2019-02-26T02:23:46.307527Z",
     "start_time": "2019-02-26T02:23:46.221814Z"
    }
   },
   "outputs": [
    {
     "name": "stdout",
     "output_type": "stream",
     "text": [
      "866f92b2d.jpg might be wrong. Don't see class w_7dd1222 in output.\n",
      "5d7277fa1.jpg might be wrong. Don't see class w_f8b7f05 in output.\n",
      "d0827d811.jpg might be wrong. Don't see class w_c38eb22 in output.\n",
      "7d45a3301.jpg might be wrong. Don't see class w_af294f7 in output.\n",
      "5a971e786.jpg might be wrong. Don't see class w_65e0628 in output.\n",
      "be76e5f8f.jpg might be wrong. Don't see class w_6d527ff in output.\n",
      "1e6e48626.jpg might be wrong. Don't see class w_1632c45 in output.\n",
      "1173d784c.jpg might be wrong. Don't see class w_fe0c54f in output.\n",
      "5381b61ae.jpg might be wrong. Don't see class w_c38eb22 in output.\n",
      "e51030771.jpg might be wrong. Don't see class w_1b8f126 in output.\n",
      "5edd0c9a0.jpg might be wrong. Don't see class w_28cb717 in output.\n",
      "092947f89.jpg might be wrong. Don't see class w_a31ead9 in output.\n",
      "0182ae396.jpg might be wrong. Don't see class w_eafeccd in output.\n",
      "2bd8ce24f.jpg might be wrong. Don't see class w_c38eb22 in output.\n",
      "81ec3d996.jpg might be wrong. Don't see class w_9f2fb13 in output.\n",
      "c13dc7ac2.jpg might be wrong. Don't see class w_c38eb22 in output.\n",
      "c2039f683.jpg might be wrong. Don't see class w_d01f587 in output.\n"
     ]
    }
   ],
   "source": [
    "potential = {}\n",
    "for index, each_row in ocr.iterrows():\n",
    "    img_name = each_row['test_img']\n",
    "    class_name = each_row['class']\n",
    "    class_list = tuple(curr_submission.loc[curr_submission['Image'] == '00028a005.jpg']['Id'])[0]\n",
    "    class_list = class_list.split(' ')\n",
    "    if class_name not in class_list:\n",
    "        print(img_name,\"might be wrong. Don't see class\", class_name, \"in output.\")\n",
    "        potential[img_name] = class_name"
   ]
  },
  {
   "cell_type": "code",
   "execution_count": 4,
   "metadata": {
    "ExecuteTime": {
     "end_time": "2019-02-26T02:23:49.195278Z",
     "start_time": "2019-02-26T02:23:49.132685Z"
    }
   },
   "outputs": [
    {
     "name": "stdout",
     "output_type": "stream",
     "text": [
      "Replaced w_3a192ed with w_7dd1222 for image 866f92b2d.jpg\n",
      "Replaced w_e36b021 with w_f8b7f05 for image 5d7277fa1.jpg\n",
      "Replaced w_fdd3687 with w_c38eb22 for image d0827d811.jpg\n",
      "Replaced w_ea91c50 with w_af294f7 for image 7d45a3301.jpg\n",
      "Replaced w_2e5d992 with w_65e0628 for image 5a971e786.jpg\n",
      "Replaced w_b1f637e with w_6d527ff for image be76e5f8f.jpg\n",
      "Replaced w_d7aef56 with w_1632c45 for image 1e6e48626.jpg\n",
      "Replaced w_5390260 with w_fe0c54f for image 1173d784c.jpg\n",
      "Replaced w_7478938 with w_c38eb22 for image 5381b61ae.jpg\n",
      "Replaced w_2f79ae3 with w_1b8f126 for image e51030771.jpg\n",
      "Replaced w_1d1fffe with w_28cb717 for image 5edd0c9a0.jpg\n",
      "Replaced w_29d806a with w_a31ead9 for image 092947f89.jpg\n",
      "Replaced w_6cec90c with w_eafeccd for image 0182ae396.jpg\n",
      "Replaced w_ae32f8b with w_c38eb22 for image 2bd8ce24f.jpg\n",
      "Replaced w_9cc2c36 with w_9f2fb13 for image 81ec3d996.jpg\n",
      "Replaced w_cd4cb49 with w_c38eb22 for image c13dc7ac2.jpg\n",
      "Replaced w_ae24bd1 with w_d01f587 for image c2039f683.jpg\n"
     ]
    }
   ],
   "source": [
    "for image_name, class_name in potential.items():\n",
    "    req_index = curr_submission.index[curr_submission['Image']==image_name]\n",
    "    current_string = tuple(curr_submission.iloc[req_index]['Id'])[0]\n",
    "    list_output_class = current_string.split(' ')\n",
    "    print('Replaced', list_output_class[4], 'with', class_name, 'for image', image_name)\n",
    "    list_output_class[4] = class_name\n",
    "    curr_submission.at[req_index,'Id'] = ' '.join(list_output_class)"
   ]
  },
  {
   "cell_type": "code",
   "execution_count": 7,
   "metadata": {
    "ExecuteTime": {
     "end_time": "2019-02-26T02:24:39.851926Z",
     "start_time": "2019-02-26T02:24:39.818309Z"
    }
   },
   "outputs": [],
   "source": [
    "curr_submission.to_csv('/Users/lamhoangtung/Downloads/ensembled_with_ocr.csv', index=False)"
   ]
  },
  {
   "cell_type": "code",
   "execution_count": 6,
   "metadata": {
    "ExecuteTime": {
     "end_time": "2019-02-26T02:23:52.351097Z",
     "start_time": "2019-02-26T02:23:52.346822Z"
    }
   },
   "outputs": [
    {
     "data": {
      "text/plain": [
       "17"
      ]
     },
     "execution_count": 6,
     "metadata": {},
     "output_type": "execute_result"
    }
   ],
   "source": [
    "len(potential)"
   ]
  }
 ],
 "metadata": {
  "kernelspec": {
   "display_name": "Python 3",
   "language": "python",
   "name": "python3"
  },
  "language_info": {
   "codemirror_mode": {
    "name": "ipython",
    "version": 3
   },
   "file_extension": ".py",
   "mimetype": "text/x-python",
   "name": "python",
   "nbconvert_exporter": "python",
   "pygments_lexer": "ipython3",
   "version": "3.6.7"
  },
  "toc": {
   "base_numbering": 1,
   "nav_menu": {},
   "number_sections": true,
   "sideBar": true,
   "skip_h1_title": false,
   "title_cell": "Table of Contents",
   "title_sidebar": "Contents",
   "toc_cell": false,
   "toc_position": {},
   "toc_section_display": true,
   "toc_window_display": false
  },
  "varInspector": {
   "cols": {
    "lenName": 16,
    "lenType": 16,
    "lenVar": 40
   },
   "kernels_config": {
    "python": {
     "delete_cmd_postfix": "",
     "delete_cmd_prefix": "del ",
     "library": "var_list.py",
     "varRefreshCmd": "print(var_dic_list())"
    },
    "r": {
     "delete_cmd_postfix": ") ",
     "delete_cmd_prefix": "rm(",
     "library": "var_list.r",
     "varRefreshCmd": "cat(var_dic_list()) "
    }
   },
   "types_to_exclude": [
    "module",
    "function",
    "builtin_function_or_method",
    "instance",
    "_Feature"
   ],
   "window_display": false
  }
 },
 "nbformat": 4,
 "nbformat_minor": 2
}
