{
 "cells": [
  {
   "cell_type": "code",
   "execution_count": 1,
   "metadata": {
    "ExecuteTime": {
     "end_time": "2019-01-23T01:52:34.829728Z",
     "start_time": "2019-01-23T01:52:34.728113Z"
    }
   },
   "outputs": [],
   "source": [
    "import numpy as np\n",
    "import cv2\n",
    "import os\n",
    "from tqdm import tqdm"
   ]
  },
  {
   "cell_type": "code",
   "execution_count": 2,
   "metadata": {
    "ExecuteTime": {
     "end_time": "2019-01-23T01:52:34.836279Z",
     "start_time": "2019-01-23T01:52:34.832918Z"
    }
   },
   "outputs": [],
   "source": [
    "train_path = '/Users/lamhoangtung/whale/data/train/'\n",
    "test_path ='/Users/lamhoangtung/whale/data/test/'"
   ]
  },
  {
   "cell_type": "code",
   "execution_count": 3,
   "metadata": {
    "ExecuteTime": {
     "end_time": "2019-01-23T01:52:34.851771Z",
     "start_time": "2019-01-23T01:52:34.840746Z"
    }
   },
   "outputs": [],
   "source": [
    "def mean_std_3_channel(data_path):\n",
    "    total_mean_b = []\n",
    "    total_mean_g = []\n",
    "    total_mean_r = []\n",
    "    total_variance_b = []\n",
    "    total_variance_g = []\n",
    "    total_variance_r = []\n",
    "    for image_name in tqdm(os.listdir(data_path)):\n",
    "        image_path = os.path.join(data_path, image_name)\n",
    "        curr_image = cv2.imread(image_path)\n",
    "        mean, std = cv2.meanStdDev(curr_image)\n",
    "        mean_b, mean_g, mean_r = mean.tolist()\n",
    "        total_mean_b.append(mean_b[0])\n",
    "        total_mean_g.append(mean_g[0])\n",
    "        total_mean_r.append(mean_r[0])\n",
    "        std_b, std_g, std_r = std.tolist()\n",
    "        total_variance_b.append(std_b[0]**2)\n",
    "        total_variance_g.append(std_g[0]**2)\n",
    "        total_variance_r.append(std_r[0]**2)\n",
    "    \n",
    "    avg_mean_b = np.mean(total_mean_b)\n",
    "    avg_mean_g = np.mean(total_mean_g)\n",
    "    avg_mean_r = np.mean(total_mean_r)\n",
    "    avg_std_b = np.sqrt(np.mean(total_variance_b))\n",
    "    avg_std_g = np.sqrt(np.mean(total_variance_g))\n",
    "    avg_std_r = np.sqrt(np.mean(total_variance_r))\n",
    "    return avg_mean_b, avg_mean_g, avg_mean_r, avg_std_b, avg_std_g, avg_std_r"
   ]
  },
  {
   "cell_type": "code",
   "execution_count": 4,
   "metadata": {
    "ExecuteTime": {
     "end_time": "2019-01-23T01:56:10.504916Z",
     "start_time": "2019-01-23T01:52:34.853675Z"
    },
    "scrolled": true
   },
   "outputs": [
    {
     "name": "stderr",
     "output_type": "stream",
     "text": [
      "100%|██████████| 25361/25361 [03:35<00:00, 117.63it/s]"
     ]
    },
    {
     "name": "stdout",
     "output_type": "stream",
     "text": [
      "/Users/lamhoangtung/whale/data/train/\n",
      "Mean(BGR): 154.96696875914634 144.3266419567478 134.90006462434616\n",
      "Std(BGR): 59.74992440798632 58.99128758455945 59.0334875135792\n"
     ]
    },
    {
     "name": "stderr",
     "output_type": "stream",
     "text": [
      "\n"
     ]
    }
   ],
   "source": [
    "mean_b, mean_g, mean_r, std_b, std_g, std_r = mean_std_3_channel(train_path)\n",
    "print(train_path)\n",
    "print('Mean(BGR): {} {} {}'.format(mean_b, mean_g, mean_r))\n",
    "print('Std(BGR): {} {} {}'.format(std_b, std_g, std_r))"
   ]
  },
  {
   "cell_type": "code",
   "execution_count": 5,
   "metadata": {
    "ExecuteTime": {
     "end_time": "2019-01-23T01:57:28.152447Z",
     "start_time": "2019-01-23T01:56:10.507518Z"
    }
   },
   "outputs": [
    {
     "name": "stderr",
     "output_type": "stream",
     "text": [
      "100%|██████████| 7960/7960 [01:17<00:00, 102.55it/s]"
     ]
    },
    {
     "name": "stdout",
     "output_type": "stream",
     "text": [
      "/Users/lamhoangtung/whale/data/test/\n",
      "Mean(BGR): 155.32757941433667 143.74774912051953 133.5138145053011\n",
      "Std(BGR): 58.39872502040659 57.56075379420951 57.60540359325616\n"
     ]
    },
    {
     "name": "stderr",
     "output_type": "stream",
     "text": [
      "\n"
     ]
    }
   ],
   "source": [
    "mean_b, mean_g, mean_r, std_b, std_g, std_r = mean_std_3_channel(test_path)\n",
    "print(test_path)\n",
    "print('Mean(BGR): {} {} {}'.format(mean_b, mean_g, mean_r))\n",
    "print('Std(BGR): {} {} {}'.format(std_b, std_g, std_r))"
   ]
  }
 ],
 "metadata": {
  "kernelspec": {
   "display_name": "Python 3",
   "language": "python",
   "name": "python3"
  },
  "language_info": {
   "codemirror_mode": {
    "name": "ipython",
    "version": 3
   },
   "file_extension": ".py",
   "mimetype": "text/x-python",
   "name": "python",
   "nbconvert_exporter": "python",
   "pygments_lexer": "ipython3",
   "version": "3.6.7"
  },
  "toc": {
   "base_numbering": 1,
   "nav_menu": {},
   "number_sections": true,
   "sideBar": true,
   "skip_h1_title": false,
   "title_cell": "Table of Contents",
   "title_sidebar": "Contents",
   "toc_cell": false,
   "toc_position": {},
   "toc_section_display": true,
   "toc_window_display": false
  },
  "varInspector": {
   "cols": {
    "lenName": 16,
    "lenType": 16,
    "lenVar": 40
   },
   "kernels_config": {
    "python": {
     "delete_cmd_postfix": "",
     "delete_cmd_prefix": "del ",
     "library": "var_list.py",
     "varRefreshCmd": "print(var_dic_list())"
    },
    "r": {
     "delete_cmd_postfix": ") ",
     "delete_cmd_prefix": "rm(",
     "library": "var_list.r",
     "varRefreshCmd": "cat(var_dic_list()) "
    }
   },
   "types_to_exclude": [
    "module",
    "function",
    "builtin_function_or_method",
    "instance",
    "_Feature"
   ],
   "window_display": false
  }
 },
 "nbformat": 4,
 "nbformat_minor": 2
}
